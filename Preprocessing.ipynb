{
 "cells": [
  {
   "cell_type": "markdown",
   "metadata": {},
   "source": [
    "Data Science PROJECT\n",
    "\n",
    "BCS-7A\n",
    "\n",
    "Predicting House Prices in USA based on Real Estate Data\n",
    "\n",
    "GROUP 3\n",
    "\n",
    "Faraz Majid 20L-1162\n",
    "\n",
    "Aemon Fatima 20L-1057\n",
    "\n",
    "Ahmad Abdullah Dhami 20L-1226"
   ]
  },
  {
   "cell_type": "markdown",
   "metadata": {},
   "source": [
    "### Data Collection:"
   ]
  },
  {
   "cell_type": "code",
   "execution_count": null,
   "metadata": {},
   "outputs": [],
   "source": [
    "import pandas as pd\n",
    "import numpy as np"
   ]
  },
  {
   "cell_type": "code",
   "execution_count": null,
   "metadata": {},
   "outputs": [],
   "source": [
    "housePrice = pd.read_csv('./raw_data.csv')\n",
    "print(housePrice.shape)\n",
    "housePrice = housePrice.drop(housePrice.columns[0],axis=1)\n",
    "\n",
    "housePrice.head()"
   ]
  },
  {
   "cell_type": "code",
   "execution_count": null,
   "metadata": {},
   "outputs": [],
   "source": [
    "# Find and count NA values in the DataFrame\n",
    "na_values = housePrice.isna().sum()\n",
    "\n",
    "# Print the NA values count\n",
    "print(\"NA Values Count:\")\n",
    "print(na_values)"
   ]
  },
  {
   "cell_type": "markdown",
   "metadata": {},
   "source": [
    "### Data Preprocessing:"
   ]
  },
  {
   "cell_type": "code",
   "execution_count": null,
   "metadata": {},
   "outputs": [],
   "source": [
    "housePrice.nunique()"
   ]
  },
  {
   "cell_type": "code",
   "execution_count": null,
   "metadata": {},
   "outputs": [],
   "source": [
    "\"\"\"\n",
    "    -> we don't need Country as All values are of the same country USA\n",
    "    -> Date column does not provide any useful information\n",
    "    -> Street is also unique for every house so it does't effect price \n",
    "\"\"\"\n",
    "housePrice = housePrice.drop(['country','date','street','statezip'],axis=1)"
   ]
  },
  {
   "cell_type": "code",
   "execution_count": null,
   "metadata": {},
   "outputs": [],
   "source": [
    "\"\"\"\n",
    "    In order to take into account city specific trends,\n",
    "    we will encode city as a Categorical Feature,\n",
    "    \n",
    "    Since, there is no inherent ordinal relationship between \n",
    "    the categories (cities, in this case). We will use \n",
    "    One-Hot encoding.    \n",
    "\"\"\"\n",
    "housePrice = pd.get_dummies(housePrice, columns=['city'], prefix='city', drop_first=True)"
   ]
  },
  {
   "cell_type": "code",
   "execution_count": null,
   "metadata": {},
   "outputs": [],
   "source": [
    "# Calculate the correlation matrix with the \"price\" column\n",
    "correlation_with_price = housePrice.corr()['price']\n",
    "\n",
    "# Sort the correlations with \"price\" in descending order\n",
    "sorted_correlation_with_price = correlation_with_price.sort_values(ascending=False)\n",
    "\n",
    "# Print the sorted correlations with \"price\"\n",
    "print(\"Correlation with 'price' (Descending Order):\")\n",
    "sorted_correlation_with_price.head(15)"
   ]
  }
 ],
 "metadata": {
  "kernelspec": {
   "display_name": "Python 3",
   "language": "python",
   "name": "python3"
  },
  "language_info": {
   "codemirror_mode": {
    "name": "ipython",
    "version": 3
   },
   "file_extension": ".py",
   "mimetype": "text/x-python",
   "name": "python",
   "nbconvert_exporter": "python",
   "pygments_lexer": "ipython3",
   "version": "3.12.0"
  }
 },
 "nbformat": 4,
 "nbformat_minor": 2
}
