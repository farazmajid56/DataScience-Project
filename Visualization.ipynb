{
 "cells": [
  {
   "cell_type": "markdown",
   "metadata": {},
   "source": [
    "Data Science PROJECT\n",
    "\n",
    "BCS-7A\n",
    "\n",
    "Predicting House Prices in USA based on Real Estate Data\n",
    "\n",
    "GROUP 3\n",
    "\n",
    "Faraz Majid 20L-1162\n",
    "\n",
    "Aemon Fatima 20L-1057\n",
    "\n",
    "Ahmad Abdullah Dhami 20L-1226"
   ]
  },
  {
   "cell_type": "markdown",
   "metadata": {},
   "source": [
    "### Data Visualization:"
   ]
  },
  {
   "cell_type": "code",
   "execution_count": null,
   "metadata": {
    "vscode": {
     "languageId": "plaintext"
    }
   },
   "outputs": [],
   "source": [
    "import pandas as pd\n",
    "import numpy as np"
   ]
  },
  {
   "cell_type": "code",
   "execution_count": null,
   "metadata": {
    "vscode": {
     "languageId": "plaintext"
    }
   },
   "outputs": [],
   "source": [
    "# Import necessary libraries\n",
    "import pandas as pd\n",
    "import matplotlib.pyplot as plt\n",
    "import seaborn as sns\n",
    "\n",
    "# Load your dataset (assuming it's in a CSV file)\n",
    "data = pd.read_csv('raw_data.csv')\n",
    "data = data.drop(data.columns[0], axis=1)\n",
    "data.head(10)"
   ]
  },
  {
   "cell_type": "code",
   "execution_count": null,
   "metadata": {
    "vscode": {
     "languageId": "plaintext"
    }
   },
   "outputs": [],
   "source": [
    "df = pd.DataFrame(data)\n",
    "\n",
    "# Count the occurrences of each condition value\n",
    "condition_counts = df['condition'].value_counts()\n",
    "\n",
    "# Create a pie chart\n",
    "plt.figure(figsize=(12, 12))\n",
    "plt.pie(condition_counts, labels=condition_counts.index, autopct='%1.1f%%', startangle=140)\n",
    "plt.title('Distribution based on Condition of House')\n",
    "plt.show()"
   ]
  },
  {
   "cell_type": "code",
   "execution_count": null,
   "metadata": {
    "vscode": {
     "languageId": "plaintext"
    }
   },
   "outputs": [],
   "source": [
    "df = pd.DataFrame(data)\n",
    "\n",
    "# Create a box and whisker plot for 'condition'\n",
    "plt.figure(figsize=(8, 6))\n",
    "plt.boxplot(df['condition'])\n",
    "plt.title('Box and Whisker Plot for Condition')\n",
    "plt.ylabel('Condition')\n",
    "plt.show()"
   ]
  },
  {
   "cell_type": "code",
   "execution_count": null,
   "metadata": {
    "vscode": {
     "languageId": "plaintext"
    }
   },
   "outputs": [],
   "source": [
    "df = pd.DataFrame(data)\n",
    "\n",
    "# Count the occurrences of each floor value\n",
    "floor_counts = df['floors'].value_counts()\n",
    "\n",
    "# Create a bar graph\n",
    "plt.figure(figsize=(8, 6))\n",
    "floor_counts.sort_index().plot(kind='bar')\n",
    "plt.title('Floors Distribution')\n",
    "plt.xlabel('Number of Floors')\n",
    "plt.ylabel('Count')\n",
    "plt.xticks(rotation=0)\n",
    "plt.show()"
   ]
  },
  {
   "cell_type": "code",
   "execution_count": null,
   "metadata": {
    "vscode": {
     "languageId": "plaintext"
    }
   },
   "outputs": [],
   "source": [
    "df = pd.DataFrame(data)\n",
    "\n",
    "# Count the occurrences of each city\n",
    "city_counts = df['city'].value_counts()\n",
    "\n",
    "# Create a bar chart\n",
    "plt.figure(figsize=(25, 12))\n",
    "city_counts.plot(kind='bar')\n",
    "plt.title('City Distribution')\n",
    "plt.xlabel('City')\n",
    "plt.ylabel('Count')\n",
    "plt.xticks(rotation=45)\n",
    "plt.show()"
   ]
  },
  {
   "cell_type": "code",
   "execution_count": null,
   "metadata": {
    "vscode": {
     "languageId": "plaintext"
    }
   },
   "outputs": [],
   "source": [
    "df = pd.DataFrame(data)\n",
    "\n",
    "# Create a histogram for 'yr_built'\n",
    "plt.figure(figsize=(10, 6))\n",
    "plt.hist(df['yr_built'], bins=20, edgecolor='k')  # Adjust the number of bins as needed\n",
    "plt.title('Histogram of Year Built')\n",
    "plt.xlabel('Year Built')\n",
    "plt.ylabel('Count')\n",
    "plt.show()"
   ]
  },
  {
   "cell_type": "code",
   "execution_count": null,
   "metadata": {
    "vscode": {
     "languageId": "plaintext"
    }
   },
   "outputs": [],
   "source": [
    "# Create a scatter plot for 'sqft_living' and 'price'\n",
    "plt.figure(figsize=(20, 12))\n",
    "plt.scatter(df['sqft_living'], df['price'], c='b', marker='o', label='Data Points')\n",
    "\n",
    "# Perform linear regression\n",
    "slope, intercept = np.polyfit(df['sqft_living'], df['price'], 1)\n",
    "x_fit = np.array([min(df['sqft_living']), max(df['sqft_living'])])\n",
    "y_fit = slope * x_fit + intercept\n",
    "\n",
    "# Add the line of best fit to the plot\n",
    "plt.plot(x_fit, y_fit, 'r-', label='Line of Best Fit')\n",
    "\n",
    "plt.title('Scatter Plot of square foot living vs. price with Line of Best Fit')\n",
    "plt.xlabel('sqft_living')\n",
    "plt.ylabel('price')\n",
    "plt.legend()\n",
    "plt.grid(True)\n",
    "plt.show()"
   ]
  },
  {
   "cell_type": "code",
   "execution_count": null,
   "metadata": {
    "vscode": {
     "languageId": "plaintext"
    }
   },
   "outputs": [],
   "source": [
    "df = pd.DataFrame(data)\n",
    "\n",
    "# Create a scatter plot with color bar for 'waterfront'\n",
    "plt.figure(figsize=(40, 12))\n",
    "scatter = plt.scatter(df['sqft_living'], df['price'], c=df['waterfront'], cmap='viridis')\n",
    "plt.colorbar(scatter, label='Waterfront')\n",
    "\n",
    "plt.title('Scatter Plot of price vs. sqft_living with Waterfront Color Bar')\n",
    "plt.xlabel('sqft_living')\n",
    "plt.ylabel('price')\n",
    "plt.grid(True)\n",
    "plt.show()"
   ]
  },
  {
   "cell_type": "code",
   "execution_count": null,
   "metadata": {
    "vscode": {
     "languageId": "plaintext"
    }
   },
   "outputs": [],
   "source": [
    "df = pd.DataFrame(data)\n",
    "\n",
    "# Create a scatter matrix\n",
    "sns.set(style=\"ticks\")\n",
    "sns.pairplot(df, kind='scatter')\n",
    "\n",
    "# Display the plot\n",
    "plt.show()"
   ]
  },
  {
   "cell_type": "code",
   "execution_count": null,
   "metadata": {
    "vscode": {
     "languageId": "plaintext"
    }
   },
   "outputs": [],
   "source": [
    "df = pd.DataFrame(data)\n",
    "\n",
    "# Calculate the correlation matrix\n",
    "correlation_matrix = df.corr()\n",
    "\n",
    "# Create a heatmap\n",
    "plt.figure(figsize=(20, 16))\n",
    "sns.heatmap(correlation_matrix, annot=True, cmap='coolwarm', linewidths=0.5)\n",
    "plt.title('Correlation Heatmap')\n",
    "plt.show()"
   ]
  },
  {
   "cell_type": "code",
   "execution_count": null,
   "metadata": {
    "vscode": {
     "languageId": "plaintext"
    }
   },
   "outputs": [],
   "source": [
    "# Create a horizontal box and whisker plot for 'price' with inverted axis\n",
    "plt.figure(figsize=(20, 18))\n",
    "sns.boxplot(y='price', data=df, orient='h')\n",
    "plt.title('Box and Whisker Plot for Price')\n",
    "plt.xlabel('Price')\n",
    "plt.show()"
   ]
  },
  {
   "cell_type": "code",
   "execution_count": null,
   "metadata": {
    "vscode": {
     "languageId": "plaintext"
    }
   },
   "outputs": [],
   "source": [
    "df = pd.DataFrame(data)\n",
    "\n",
    "# Create a horizontal box and whisker plot for 'price' with inverted axis\n",
    "plt.figure(figsize=(8, 18))\n",
    "plt.boxplot(df['price'], vert=True)\n",
    "plt.title('Horizontal Box and Whisker Plot for Price (Inverted Axis)')\n",
    "plt.xlabel('Price')\n",
    "plt.show()"
   ]
  },
  {
   "cell_type": "code",
   "execution_count": null,
   "metadata": {
    "vscode": {
     "languageId": "plaintext"
    }
   },
   "outputs": [],
   "source": [
    "df = pd.DataFrame(data)\n",
    "# Assuming 'df' is your DataFrame\n",
    "columns_to_plot = ['price', 'sqft_living', 'floors', 'bedrooms', 'bathrooms']\n",
    "sns.set(style=\"ticks\")\n",
    "sns.pairplot(df[columns_to_plot])\n",
    "plt.show()"
   ]
  },
  {
   "cell_type": "code",
   "execution_count": null,
   "metadata": {
    "vscode": {
     "languageId": "plaintext"
    }
   },
   "outputs": [],
   "source": [
    "# Univariate Analysis\n",
    "# 1. Histogram for 'price'\n",
    "plt.figure(figsize=(8, 4))\n",
    "sns.histplot(data['price'], kde=True)\n",
    "plt.xlabel('Price')\n",
    "plt.title('Distribution of Price')\n",
    "plt.show()\n",
    "\n",
    "# 2. Bar chart for 'condition'\n",
    "condition_counts = data['condition'].value_counts()\n",
    "plt.figure(figsize=(8, 4))\n",
    "sns.barplot(x=condition_counts.index, y=condition_counts.values)\n",
    "plt.xlabel('Condition')\n",
    "plt.ylabel('Count')\n",
    "plt.title('Distribution of Condition')\n",
    "plt.xticks(rotation=45)\n",
    "plt.show()\n",
    "\n",
    "# Bivariate Analysis\n",
    "# 3. Scatter plot for 'sqft_living' vs. 'price'\n",
    "plt.figure(figsize=(8, 6))\n",
    "sns.scatterplot(x='sqft_living', y='price', data=data)\n",
    "plt.xlabel('Sqft Living')\n",
    "plt.ylabel('Price')\n",
    "plt.title('Price vs. Sqft Living')\n",
    "plt.show()\n",
    "\n",
    "# 4. Pair plot for multiple numeric variables\n",
    "numeric_vars = ['price', 'bedrooms', 'bathrooms', 'sqft_living', 'sqft_lot']\n",
    "sns.pairplot(data[numeric_vars])\n",
    "plt.show()\n",
    "\n",
    "# 5. Heatmap to visualize correlations between numeric variables\n",
    "corr_matrix = data[numeric_vars].corr()\n",
    "plt.figure(figsize=(8, 6))\n",
    "sns.heatmap(corr_matrix, annot=True, cmap='coolwarm', square=True)\n",
    "plt.title('Correlation Heatmap')\n",
    "plt.show()\n",
    "\n",
    "# Time Series Analysis\n",
    "# 6. Line chart for 'price' over time (assuming 'yr_built' is a year column)\n",
    "time_series_data = data.groupby('yr_built')['price'].mean()\n",
    "plt.figure(figsize=(10, 6))\n",
    "time_series_data.plot()\n",
    "plt.xlabel('Year Built')\n",
    "plt.ylabel('Mean Price')\n",
    "plt.title('Price Over Time')\n",
    "plt.show()\n",
    "\n",
    "# # Geospatial Data\n",
    "# # 7. Scatter plot on a map (assuming you have latitude and longitude columns)\n",
    "# plt.figure(figsize=(10, 8))\n",
    "# sns.scatterplot(x='longitude', y='latitude', data=data, hue='price', palette='viridis')\n",
    "# plt.title('Geospatial Plot of Price')\n",
    "# plt.show()\n",
    "\n",
    "# Advanced Visualization\n",
    "# 8. Violin plot to visualize distribution of 'bedrooms' for each 'condition'\n",
    "plt.figure(figsize=(8, 6))\n",
    "sns.violinplot(x='condition', y='bedrooms', data=data, palette='muted')\n",
    "plt.title('Distribution of Bedrooms by Condition')\n",
    "plt.show()"
   ]
  }
 ],
 "metadata": {
  "language_info": {
   "name": "python"
  }
 },
 "nbformat": 4,
 "nbformat_minor": 2
}
